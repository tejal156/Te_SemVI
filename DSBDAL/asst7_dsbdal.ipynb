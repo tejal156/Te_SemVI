{
  "nbformat": 4,
  "nbformat_minor": 0,
  "metadata": {
    "colab": {
      "provenance": [],
      "collapsed_sections": [
        "QJxJw4CXyGOg",
        "sMbS3M-a0B7l",
        "5NMDXLqb0Lts",
        "T8QyMB5C3oc4",
        "RwHQU2xRqtXv",
        "KVI_g8nSsOGL"
      ],
      "toc_visible": true
    },
    "kernelspec": {
      "name": "python3",
      "display_name": "Python 3"
    },
    "language_info": {
      "name": "python"
    }
  },
  "cells": [
    {
      "cell_type": "code",
      "execution_count": null,
      "metadata": {
        "id": "kNaOwJIwx-cg"
      },
      "outputs": [],
      "source": [
        "# problem statemet\n",
        "# 1. Extract Sample document and apply following document preprocessing\n",
        "# methods:Tokenization, POS Tagging, stop words removal, Stemming\n",
        "# andLemmatization.\n",
        "# 2. Create representation of document by calculating Term Frequency and\n",
        "# InverseDocumentFrequency."
      ]
    },
    {
      "cell_type": "markdown",
      "source": [
        "# Problem statement part 1"
      ],
      "metadata": {
        "id": "QJxJw4CXyGOg"
      }
    },
    {
      "cell_type": "code",
      "source": [
        "import nltk"
      ],
      "metadata": {
        "id": "FFQpL8styENi"
      },
      "execution_count": null,
      "outputs": []
    },
    {
      "cell_type": "markdown",
      "source": [
        "importing data"
      ],
      "metadata": {
        "id": "fQvOYFpRzSHO"
      }
    },
    {
      "cell_type": "code",
      "source": [
        "data = \"i am tree. I am green . I have a leaves. i like sunlight. \""
      ],
      "metadata": {
        "id": "UxFl1GW1zUpN"
      },
      "execution_count": null,
      "outputs": []
    },
    {
      "cell_type": "code",
      "source": [
        "with open(\"/content/drive/MyDrive/te/te_term2/DSBDAL/final_DSBDAL/asst7/sample (1).txt\" , \"r\") as file :\n",
        "  data= file.read()"
      ],
      "metadata": {
        "id": "7ZCVjkLPzW3V"
      },
      "execution_count": null,
      "outputs": []
    },
    {
      "cell_type": "code",
      "source": [
        "data"
      ],
      "metadata": {
        "colab": {
          "base_uri": "https://localhost:8080/",
          "height": 104
        },
        "id": "JOZ1ls6wz2sr",
        "outputId": "4b06899b-cee1-40c1-bce0-ae354c480db0"
      },
      "execution_count": null,
      "outputs": [
        {
          "output_type": "execute_result",
          "data": {
            "text/plain": [
              "\"\\ufeff\\ufeffThe Taj Mahal was commissioned by Shah Jahan in 1631. \\nIt was built in the memory of his wife Mumtaz Mahal. \\nShe was died on 17 June 1631. \\nShe died while giving birth to their 14th child, Gauhara Begum. \\nConstruction started in 1632.Mausoleum was completed in 1648. \\nSurrounding buildings and garden were finished five years later. \\nThe imperial court documenting Shah Jahan's grief after the death of Mumtaz Mahal illustrates the love story held as the inspiration for the Taj Mahal.\""
            ],
            "application/vnd.google.colaboratory.intrinsic+json": {
              "type": "string"
            }
          },
          "metadata": {},
          "execution_count": 6
        }
      ]
    },
    {
      "cell_type": "code",
      "source": [
        "with open( \"/content/drive/MyDrive/te/te_term2/DSBDAL/final_DSBDAL/asst7/doc 3.txt\" , \"r\") as file :\n",
        "  data2 = file.read()\n"
      ],
      "metadata": {
        "id": "MWJuipcStB2z"
      },
      "execution_count": null,
      "outputs": []
    },
    {
      "cell_type": "markdown",
      "source": [
        "# tokenization"
      ],
      "metadata": {
        "id": "sMbS3M-a0B7l"
      }
    },
    {
      "cell_type": "code",
      "source": [
        "nltk.download(\"punkt\")"
      ],
      "metadata": {
        "colab": {
          "base_uri": "https://localhost:8080/"
        },
        "id": "SdG6HrF9yTeK",
        "outputId": "f57950db-b439-40ba-aec2-d20e90494c1b"
      },
      "execution_count": null,
      "outputs": [
        {
          "output_type": "stream",
          "name": "stderr",
          "text": [
            "[nltk_data] Downloading package punkt to /root/nltk_data...\n",
            "[nltk_data]   Unzipping tokenizers/punkt.zip.\n"
          ]
        },
        {
          "output_type": "execute_result",
          "data": {
            "text/plain": [
              "True"
            ]
          },
          "metadata": {},
          "execution_count": 7
        }
      ]
    },
    {
      "cell_type": "code",
      "source": [
        "from nltk.tokenize import word_tokenize"
      ],
      "metadata": {
        "id": "jjIU1aogyb4l"
      },
      "execution_count": null,
      "outputs": []
    },
    {
      "cell_type": "code",
      "source": [
        "token_data = word_tokenize(data)"
      ],
      "metadata": {
        "id": "n16m69QpyylZ"
      },
      "execution_count": null,
      "outputs": []
    },
    {
      "cell_type": "code",
      "source": [
        "token_data"
      ],
      "metadata": {
        "colab": {
          "base_uri": "https://localhost:8080/"
        },
        "id": "mncGtRTMylMg",
        "outputId": "0172c8b9-0504-483b-e40b-c8d67cb368f2"
      },
      "execution_count": null,
      "outputs": [
        {
          "output_type": "execute_result",
          "data": {
            "text/plain": [
              "['\\ufeff\\ufeffThe',\n",
              " 'Taj',\n",
              " 'Mahal',\n",
              " 'was',\n",
              " 'commissioned',\n",
              " 'by',\n",
              " 'Shah',\n",
              " 'Jahan',\n",
              " 'in',\n",
              " '1631',\n",
              " '.',\n",
              " 'It',\n",
              " 'was',\n",
              " 'built',\n",
              " 'in',\n",
              " 'the',\n",
              " 'memory',\n",
              " 'of',\n",
              " 'his',\n",
              " 'wife',\n",
              " 'Mumtaz',\n",
              " 'Mahal',\n",
              " '.',\n",
              " 'She',\n",
              " 'was',\n",
              " 'died',\n",
              " 'on',\n",
              " '17',\n",
              " 'June',\n",
              " '1631',\n",
              " '.',\n",
              " 'She',\n",
              " 'died',\n",
              " 'while',\n",
              " 'giving',\n",
              " 'birth',\n",
              " 'to',\n",
              " 'their',\n",
              " '14th',\n",
              " 'child',\n",
              " ',',\n",
              " 'Gauhara',\n",
              " 'Begum',\n",
              " '.',\n",
              " 'Construction',\n",
              " 'started',\n",
              " 'in',\n",
              " '1632.Mausoleum',\n",
              " 'was',\n",
              " 'completed',\n",
              " 'in',\n",
              " '1648',\n",
              " '.',\n",
              " 'Surrounding',\n",
              " 'buildings',\n",
              " 'and',\n",
              " 'garden',\n",
              " 'were',\n",
              " 'finished',\n",
              " 'five',\n",
              " 'years',\n",
              " 'later',\n",
              " '.',\n",
              " 'The',\n",
              " 'imperial',\n",
              " 'court',\n",
              " 'documenting',\n",
              " 'Shah',\n",
              " 'Jahan',\n",
              " \"'s\",\n",
              " 'grief',\n",
              " 'after',\n",
              " 'the',\n",
              " 'death',\n",
              " 'of',\n",
              " 'Mumtaz',\n",
              " 'Mahal',\n",
              " 'illustrates',\n",
              " 'the',\n",
              " 'love',\n",
              " 'story',\n",
              " 'held',\n",
              " 'as',\n",
              " 'the',\n",
              " 'inspiration',\n",
              " 'for',\n",
              " 'the',\n",
              " 'Taj',\n",
              " 'Mahal',\n",
              " '.']"
            ]
          },
          "metadata": {},
          "execution_count": 10
        }
      ]
    },
    {
      "cell_type": "markdown",
      "source": [
        "# pos tagging"
      ],
      "metadata": {
        "id": "5NMDXLqb0Lts"
      }
    },
    {
      "cell_type": "code",
      "source": [
        "nltk.download(\"averaged_perceptron_tagger\")"
      ],
      "metadata": {
        "colab": {
          "base_uri": "https://localhost:8080/"
        },
        "id": "cmaFrN4C0JYv",
        "outputId": "e51b5901-e753-44fc-b843-6e37f5d88a37"
      },
      "execution_count": null,
      "outputs": [
        {
          "output_type": "stream",
          "name": "stderr",
          "text": [
            "[nltk_data] Downloading package averaged_perceptron_tagger to\n",
            "[nltk_data]     /root/nltk_data...\n",
            "[nltk_data]   Unzipping taggers/averaged_perceptron_tagger.zip.\n"
          ]
        },
        {
          "output_type": "execute_result",
          "data": {
            "text/plain": [
              "True"
            ]
          },
          "metadata": {},
          "execution_count": 11
        }
      ]
    },
    {
      "cell_type": "code",
      "source": [
        "# for token_ele in token_data :\n",
        "#   print( token_ele.ljust(15) , \": \" , nltk.pos_tag(token_ele) )\n",
        "nltk.pos_tag(token_data)"
      ],
      "metadata": {
        "colab": {
          "base_uri": "https://localhost:8080/"
        },
        "id": "UFsSbpE-2_qp",
        "outputId": "fc29eb72-3bc3-4f16-9030-8e22c12bb62f"
      },
      "execution_count": null,
      "outputs": [
        {
          "output_type": "execute_result",
          "data": {
            "text/plain": [
              "[('\\ufeff\\ufeffThe', 'JJ'),\n",
              " ('Taj', 'NNP'),\n",
              " ('Mahal', 'NNP'),\n",
              " ('was', 'VBD'),\n",
              " ('commissioned', 'VBN'),\n",
              " ('by', 'IN'),\n",
              " ('Shah', 'NNP'),\n",
              " ('Jahan', 'NNP'),\n",
              " ('in', 'IN'),\n",
              " ('1631', 'CD'),\n",
              " ('.', '.'),\n",
              " ('It', 'PRP'),\n",
              " ('was', 'VBD'),\n",
              " ('built', 'VBN'),\n",
              " ('in', 'IN'),\n",
              " ('the', 'DT'),\n",
              " ('memory', 'NN'),\n",
              " ('of', 'IN'),\n",
              " ('his', 'PRP$'),\n",
              " ('wife', 'NN'),\n",
              " ('Mumtaz', 'NNP'),\n",
              " ('Mahal', 'NNP'),\n",
              " ('.', '.'),\n",
              " ('She', 'PRP'),\n",
              " ('was', 'VBD'),\n",
              " ('died', 'VBN'),\n",
              " ('on', 'IN'),\n",
              " ('17', 'CD'),\n",
              " ('June', 'NNP'),\n",
              " ('1631', 'CD'),\n",
              " ('.', '.'),\n",
              " ('She', 'PRP'),\n",
              " ('died', 'VBD'),\n",
              " ('while', 'IN'),\n",
              " ('giving', 'VBG'),\n",
              " ('birth', 'NN'),\n",
              " ('to', 'TO'),\n",
              " ('their', 'PRP$'),\n",
              " ('14th', 'CD'),\n",
              " ('child', 'NN'),\n",
              " (',', ','),\n",
              " ('Gauhara', 'NNP'),\n",
              " ('Begum', 'NNP'),\n",
              " ('.', '.'),\n",
              " ('Construction', 'NN'),\n",
              " ('started', 'VBD'),\n",
              " ('in', 'IN'),\n",
              " ('1632.Mausoleum', 'CD'),\n",
              " ('was', 'VBD'),\n",
              " ('completed', 'VBN'),\n",
              " ('in', 'IN'),\n",
              " ('1648', 'CD'),\n",
              " ('.', '.'),\n",
              " ('Surrounding', 'VBG'),\n",
              " ('buildings', 'NNS'),\n",
              " ('and', 'CC'),\n",
              " ('garden', 'NN'),\n",
              " ('were', 'VBD'),\n",
              " ('finished', 'VBN'),\n",
              " ('five', 'CD'),\n",
              " ('years', 'NNS'),\n",
              " ('later', 'RB'),\n",
              " ('.', '.'),\n",
              " ('The', 'DT'),\n",
              " ('imperial', 'JJ'),\n",
              " ('court', 'NN'),\n",
              " ('documenting', 'VBG'),\n",
              " ('Shah', 'NNP'),\n",
              " ('Jahan', 'NNP'),\n",
              " (\"'s\", 'POS'),\n",
              " ('grief', 'NN'),\n",
              " ('after', 'IN'),\n",
              " ('the', 'DT'),\n",
              " ('death', 'NN'),\n",
              " ('of', 'IN'),\n",
              " ('Mumtaz', 'NNP'),\n",
              " ('Mahal', 'NNP'),\n",
              " ('illustrates', 'VBZ'),\n",
              " ('the', 'DT'),\n",
              " ('love', 'NN'),\n",
              " ('story', 'NN'),\n",
              " ('held', 'VBD'),\n",
              " ('as', 'IN'),\n",
              " ('the', 'DT'),\n",
              " ('inspiration', 'NN'),\n",
              " ('for', 'IN'),\n",
              " ('the', 'DT'),\n",
              " ('Taj', 'NNP'),\n",
              " ('Mahal', 'NNP'),\n",
              " ('.', '.')]"
            ]
          },
          "metadata": {},
          "execution_count": 12
        }
      ]
    },
    {
      "cell_type": "code",
      "source": [],
      "metadata": {
        "id": "UNezDVC43RLR"
      },
      "execution_count": null,
      "outputs": []
    },
    {
      "cell_type": "markdown",
      "source": [
        "# stop words"
      ],
      "metadata": {
        "id": "T8QyMB5C3oc4"
      }
    },
    {
      "cell_type": "code",
      "source": [
        "nltk.download(\"stopwords\")"
      ],
      "metadata": {
        "colab": {
          "base_uri": "https://localhost:8080/"
        },
        "id": "R86Id1PD3sFL",
        "outputId": "03b85431-a3b0-40a6-dd4c-791148b428af"
      },
      "execution_count": null,
      "outputs": [
        {
          "output_type": "stream",
          "name": "stderr",
          "text": [
            "[nltk_data] Downloading package stopwords to /root/nltk_data...\n",
            "[nltk_data]   Unzipping corpora/stopwords.zip.\n"
          ]
        },
        {
          "output_type": "execute_result",
          "data": {
            "text/plain": [
              "True"
            ]
          },
          "metadata": {},
          "execution_count": 13
        }
      ]
    },
    {
      "cell_type": "code",
      "source": [
        "from nltk.corpus import stopwords"
      ],
      "metadata": {
        "id": "xpdrgjqx3weN"
      },
      "execution_count": null,
      "outputs": []
    },
    {
      "cell_type": "code",
      "source": [
        "stop_word = set( stopwords.words(\"english\") )"
      ],
      "metadata": {
        "id": "Mts_aoOi33SX"
      },
      "execution_count": null,
      "outputs": []
    },
    {
      "cell_type": "code",
      "source": [
        "filtered_arr = []\n",
        "for ele in token_data :\n",
        "  if ele not in stop_word :\n",
        "    filtered_arr.append( ele )\n",
        "\n",
        "print( token_data )\n",
        "print(filtered_arr)"
      ],
      "metadata": {
        "colab": {
          "base_uri": "https://localhost:8080/"
        },
        "id": "O1cqdJk_qTyS",
        "outputId": "414c5d80-41bd-4880-c0ea-d7d6eaca0556"
      },
      "execution_count": null,
      "outputs": [
        {
          "output_type": "stream",
          "name": "stdout",
          "text": [
            "['\\ufeff\\ufeffThe', 'Taj', 'Mahal', 'was', 'commissioned', 'by', 'Shah', 'Jahan', 'in', '1631', '.', 'It', 'was', 'built', 'in', 'the', 'memory', 'of', 'his', 'wife', 'Mumtaz', 'Mahal', '.', 'She', 'was', 'died', 'on', '17', 'June', '1631', '.', 'She', 'died', 'while', 'giving', 'birth', 'to', 'their', '14th', 'child', ',', 'Gauhara', 'Begum', '.', 'Construction', 'started', 'in', '1632.Mausoleum', 'was', 'completed', 'in', '1648', '.', 'Surrounding', 'buildings', 'and', 'garden', 'were', 'finished', 'five', 'years', 'later', '.', 'The', 'imperial', 'court', 'documenting', 'Shah', 'Jahan', \"'s\", 'grief', 'after', 'the', 'death', 'of', 'Mumtaz', 'Mahal', 'illustrates', 'the', 'love', 'story', 'held', 'as', 'the', 'inspiration', 'for', 'the', 'Taj', 'Mahal', '.']\n",
            "['\\ufeff\\ufeffThe', 'Taj', 'Mahal', 'commissioned', 'Shah', 'Jahan', '1631', '.', 'It', 'built', 'memory', 'wife', 'Mumtaz', 'Mahal', '.', 'She', 'died', '17', 'June', '1631', '.', 'She', 'died', 'giving', 'birth', '14th', 'child', ',', 'Gauhara', 'Begum', '.', 'Construction', 'started', '1632.Mausoleum', 'completed', '1648', '.', 'Surrounding', 'buildings', 'garden', 'finished', 'five', 'years', 'later', '.', 'The', 'imperial', 'court', 'documenting', 'Shah', 'Jahan', \"'s\", 'grief', 'death', 'Mumtaz', 'Mahal', 'illustrates', 'love', 'story', 'held', 'inspiration', 'Taj', 'Mahal', '.']\n"
          ]
        }
      ]
    },
    {
      "cell_type": "markdown",
      "source": [
        "# stemming"
      ],
      "metadata": {
        "id": "RwHQU2xRqtXv"
      }
    },
    {
      "cell_type": "code",
      "source": [
        "from nltk.stem import PorterStemmer"
      ],
      "metadata": {
        "id": "vbII-ncdrA7p"
      },
      "execution_count": null,
      "outputs": []
    },
    {
      "cell_type": "code",
      "source": [
        "stem_obj = PorterStemmer()"
      ],
      "metadata": {
        "id": "8f3PQuADrJ4u"
      },
      "execution_count": null,
      "outputs": []
    },
    {
      "cell_type": "code",
      "source": [
        "for ele in token_data :\n",
        "  print( ele.ljust(15) , \": \",  stem_obj.stem(ele ) )"
      ],
      "metadata": {
        "colab": {
          "base_uri": "https://localhost:8080/"
        },
        "id": "BmnNNIsZrQ8n",
        "outputId": "b8b4c194-541a-4c6e-d3c8-12fee0340529"
      },
      "execution_count": null,
      "outputs": [
        {
          "output_type": "stream",
          "name": "stdout",
          "text": [
            "﻿﻿The           :  ﻿﻿the\n",
            "Taj             :  taj\n",
            "Mahal           :  mahal\n",
            "was             :  wa\n",
            "commissioned    :  commiss\n",
            "by              :  by\n",
            "Shah            :  shah\n",
            "Jahan           :  jahan\n",
            "in              :  in\n",
            "1631            :  1631\n",
            ".               :  .\n",
            "It              :  it\n",
            "was             :  wa\n",
            "built           :  built\n",
            "in              :  in\n",
            "the             :  the\n",
            "memory          :  memori\n",
            "of              :  of\n",
            "his             :  hi\n",
            "wife            :  wife\n",
            "Mumtaz          :  mumtaz\n",
            "Mahal           :  mahal\n",
            ".               :  .\n",
            "She             :  she\n",
            "was             :  wa\n",
            "died            :  die\n",
            "on              :  on\n",
            "17              :  17\n",
            "June            :  june\n",
            "1631            :  1631\n",
            ".               :  .\n",
            "She             :  she\n",
            "died            :  die\n",
            "while           :  while\n",
            "giving          :  give\n",
            "birth           :  birth\n",
            "to              :  to\n",
            "their           :  their\n",
            "14th            :  14th\n",
            "child           :  child\n",
            ",               :  ,\n",
            "Gauhara         :  gauhara\n",
            "Begum           :  begum\n",
            ".               :  .\n",
            "Construction    :  construct\n",
            "started         :  start\n",
            "in              :  in\n",
            "1632.Mausoleum  :  1632.mausoleum\n",
            "was             :  wa\n",
            "completed       :  complet\n",
            "in              :  in\n",
            "1648            :  1648\n",
            ".               :  .\n",
            "Surrounding     :  surround\n",
            "buildings       :  build\n",
            "and             :  and\n",
            "garden          :  garden\n",
            "were            :  were\n",
            "finished        :  finish\n",
            "five            :  five\n",
            "years           :  year\n",
            "later           :  later\n",
            ".               :  .\n",
            "The             :  the\n",
            "imperial        :  imperi\n",
            "court           :  court\n",
            "documenting     :  document\n",
            "Shah            :  shah\n",
            "Jahan           :  jahan\n",
            "'s              :  's\n",
            "grief           :  grief\n",
            "after           :  after\n",
            "the             :  the\n",
            "death           :  death\n",
            "of              :  of\n",
            "Mumtaz          :  mumtaz\n",
            "Mahal           :  mahal\n",
            "illustrates     :  illustr\n",
            "the             :  the\n",
            "love            :  love\n",
            "story           :  stori\n",
            "held            :  held\n",
            "as              :  as\n",
            "the             :  the\n",
            "inspiration     :  inspir\n",
            "for             :  for\n",
            "the             :  the\n",
            "Taj             :  taj\n",
            "Mahal           :  mahal\n",
            ".               :  .\n"
          ]
        }
      ]
    },
    {
      "cell_type": "markdown",
      "source": [
        "# Lemmatization"
      ],
      "metadata": {
        "id": "KVI_g8nSsOGL"
      }
    },
    {
      "cell_type": "code",
      "source": [
        "nltk.download(\"wordnet\")"
      ],
      "metadata": {
        "colab": {
          "base_uri": "https://localhost:8080/"
        },
        "id": "DHH0kgPdsRDv",
        "outputId": "13649770-df4d-48ab-be49-81784053e5fb"
      },
      "execution_count": null,
      "outputs": [
        {
          "output_type": "stream",
          "name": "stderr",
          "text": [
            "[nltk_data] Downloading package wordnet to /root/nltk_data...\n"
          ]
        },
        {
          "output_type": "execute_result",
          "data": {
            "text/plain": [
              "True"
            ]
          },
          "metadata": {},
          "execution_count": 26
        }
      ]
    },
    {
      "cell_type": "code",
      "source": [
        "from nltk.stem import WordNetLemmatizer"
      ],
      "metadata": {
        "id": "O8tVrudbsXdg"
      },
      "execution_count": null,
      "outputs": []
    },
    {
      "cell_type": "code",
      "source": [
        "lemma_obj = WordNetLemmatizer()"
      ],
      "metadata": {
        "id": "pyDJJAdDsliI"
      },
      "execution_count": null,
      "outputs": []
    },
    {
      "cell_type": "code",
      "source": [
        "for ele in token_data :\n",
        "  print( ele.ljust(15) , \": \",  lemma_obj.lemmatize(ele ) )"
      ],
      "metadata": {
        "colab": {
          "base_uri": "https://localhost:8080/"
        },
        "id": "NBVLHubdsu5Z",
        "outputId": "79bdfbad-6594-4ba1-e56e-19e6b0535e7e"
      },
      "execution_count": null,
      "outputs": [
        {
          "output_type": "stream",
          "name": "stdout",
          "text": [
            "﻿﻿The           :  ﻿﻿The\n",
            "Taj             :  Taj\n",
            "Mahal           :  Mahal\n",
            "was             :  wa\n",
            "commissioned    :  commissioned\n",
            "by              :  by\n",
            "Shah            :  Shah\n",
            "Jahan           :  Jahan\n",
            "in              :  in\n",
            "1631            :  1631\n",
            ".               :  .\n",
            "It              :  It\n",
            "was             :  wa\n",
            "built           :  built\n",
            "in              :  in\n",
            "the             :  the\n",
            "memory          :  memory\n",
            "of              :  of\n",
            "his             :  his\n",
            "wife            :  wife\n",
            "Mumtaz          :  Mumtaz\n",
            "Mahal           :  Mahal\n",
            ".               :  .\n",
            "She             :  She\n",
            "was             :  wa\n",
            "died            :  died\n",
            "on              :  on\n",
            "17              :  17\n",
            "June            :  June\n",
            "1631            :  1631\n",
            ".               :  .\n",
            "She             :  She\n",
            "died            :  died\n",
            "while           :  while\n",
            "giving          :  giving\n",
            "birth           :  birth\n",
            "to              :  to\n",
            "their           :  their\n",
            "14th            :  14th\n",
            "child           :  child\n",
            ",               :  ,\n",
            "Gauhara         :  Gauhara\n",
            "Begum           :  Begum\n",
            ".               :  .\n",
            "Construction    :  Construction\n",
            "started         :  started\n",
            "in              :  in\n",
            "1632.Mausoleum  :  1632.Mausoleum\n",
            "was             :  wa\n",
            "completed       :  completed\n",
            "in              :  in\n",
            "1648            :  1648\n",
            ".               :  .\n",
            "Surrounding     :  Surrounding\n",
            "buildings       :  building\n",
            "and             :  and\n",
            "garden          :  garden\n",
            "were            :  were\n",
            "finished        :  finished\n",
            "five            :  five\n",
            "years           :  year\n",
            "later           :  later\n",
            ".               :  .\n",
            "The             :  The\n",
            "imperial        :  imperial\n",
            "court           :  court\n",
            "documenting     :  documenting\n",
            "Shah            :  Shah\n",
            "Jahan           :  Jahan\n",
            "'s              :  's\n",
            "grief           :  grief\n",
            "after           :  after\n",
            "the             :  the\n",
            "death           :  death\n",
            "of              :  of\n",
            "Mumtaz          :  Mumtaz\n",
            "Mahal           :  Mahal\n",
            "illustrates     :  illustrates\n",
            "the             :  the\n",
            "love            :  love\n",
            "story           :  story\n",
            "held            :  held\n",
            "as              :  a\n",
            "the             :  the\n",
            "inspiration     :  inspiration\n",
            "for             :  for\n",
            "the             :  the\n",
            "Taj             :  Taj\n",
            "Mahal           :  Mahal\n",
            ".               :  .\n"
          ]
        }
      ]
    },
    {
      "cell_type": "code",
      "source": [],
      "metadata": {
        "id": "m9XPHaOTs1RR"
      },
      "execution_count": null,
      "outputs": []
    },
    {
      "cell_type": "markdown",
      "source": [
        "# Problem Statement part 2"
      ],
      "metadata": {
        "id": "pLdOHnp3s4yC"
      }
    },
    {
      "cell_type": "code",
      "source": [
        "def calculateTF(doc):\n",
        "  from nltk.tokenize import word_tokenize\n",
        "  token_doc = word_tokenize(doc)\n",
        "  ld = len( token_doc )\n",
        "  ans = {}\n",
        "  for ele in token_doc:\n",
        "    if ele not in ans :\n",
        "      ans[ele] = 1\n",
        "    else:\n",
        "      ans[ele] = ans[ele] + 1\n",
        "  print(ans)\n",
        "  for key in ans :\n",
        "    ans[key] = (float) (ans[key]) / (float) (ld)\n",
        "  print(ans)\n",
        "  return ans\n"
      ],
      "metadata": {
        "id": "Ahn-3iYEs9eA"
      },
      "execution_count": null,
      "outputs": []
    },
    {
      "cell_type": "code",
      "source": [
        "calculateTF(data)"
      ],
      "metadata": {
        "id": "cZwkUi0quK1z"
      },
      "execution_count": null,
      "outputs": []
    },
    {
      "cell_type": "code",
      "source": [
        "import math\n",
        "def calculateIDF( doclist ):\n",
        "  ld = len( doclist)\n",
        "  unique_ele = set()\n",
        "  for doc in doclist :\n",
        "    unique_ele = unique_ele.union( set( word_tokenize(doc)  ))\n",
        "  ans = {}\n",
        "  print( unique_ele )\n",
        "  for ele in unique_ele :\n",
        "    count = 0\n",
        "    for doc in doclist :\n",
        "      if ele in doc :\n",
        "        count = count + 1\n",
        "\n",
        "    ans[ele] = math.log( (float)(ld) / (float)(count) )\n",
        "    print( ele , \" \" , count , \" \" , ans[ele] )"
      ],
      "metadata": {
        "id": "QGQPMyauuoGI"
      },
      "execution_count": null,
      "outputs": []
    },
    {
      "cell_type": "code",
      "source": [
        "calculateIDF([data , data2])"
      ],
      "metadata": {
        "colab": {
          "base_uri": "https://localhost:8080/"
        },
        "id": "E2o7s7sEv0qD",
        "outputId": "47312ef0-d242-445e-b92a-9344639cc74f"
      },
      "execution_count": null,
      "outputs": [
        {
          "output_type": "stream",
          "name": "stdout",
          "text": [
            "{'his', '17', 'imperial', 'built', 'and', 'held', 'child', 'died', ',', 'grief', 'love', 'She', 'started', 'birth', 'wife', 'ahie', 'It', 'after', '1631', 'for', 'in', 'buildings', 'court', 'abd', 'were', 'on', '.', 'Begum', 'Construction', 'the', 'finished', 'Jahan', '\\ufeffThe', '14th', 'sibfa', \"'s\", 'Taj', 'their', 'garden', 'completed', 'story', 'inspiration', 'years', 'was', '\\ufeff\\ufeffThe', 'Shah', 'June', 'Gauhara', 'commissioned', 'The', 'as', 'giving', 'death', 'ibj', '1648', 'Mahal', 'while', 'documenting', 'later', '1632.Mausoleum', 'Surrounding', 'five', 'memory', 'to', 'by', 'of', 'Mumtaz', 'illustrates'}\n",
            "his   2   0.0\n",
            "17   1   0.6931471805599453\n",
            "imperial   1   0.6931471805599453\n",
            "built   2   0.0\n",
            "and   2   0.0\n",
            "held   1   0.6931471805599453\n",
            "child   1   0.6931471805599453\n",
            "died   1   0.6931471805599453\n",
            ",   1   0.6931471805599453\n",
            "grief   1   0.6931471805599453\n",
            "love   1   0.6931471805599453\n",
            "She   1   0.6931471805599453\n",
            "started   1   0.6931471805599453\n",
            "birth   1   0.6931471805599453\n",
            "wife   2   0.0\n",
            "ahie   1   0.6931471805599453\n",
            "It   2   0.0\n",
            "after   1   0.6931471805599453\n",
            "1631   2   0.0\n",
            "for   1   0.6931471805599453\n",
            "in   2   0.0\n",
            "buildings   2   0.0\n",
            "court   1   0.6931471805599453\n",
            "abd   1   0.6931471805599453\n",
            "were   2   0.0\n",
            "on   2   0.0\n",
            ".   2   0.0\n",
            "Begum   1   0.6931471805599453\n",
            "Construction   1   0.6931471805599453\n",
            "the   2   0.0\n",
            "finished   2   0.0\n",
            "Jahan   2   0.0\n",
            "﻿The   2   0.0\n",
            "14th   1   0.6931471805599453\n",
            "sibfa   1   0.6931471805599453\n",
            "'s   1   0.6931471805599453\n",
            "Taj   2   0.0\n",
            "their   1   0.6931471805599453\n",
            "garden   2   0.0\n",
            "completed   1   0.6931471805599453\n",
            "story   1   0.6931471805599453\n",
            "inspiration   1   0.6931471805599453\n",
            "years   2   0.0\n",
            "was   2   0.0\n",
            "﻿﻿The   1   0.6931471805599453\n",
            "Shah   2   0.0\n",
            "June   1   0.6931471805599453\n",
            "Gauhara   1   0.6931471805599453\n",
            "commissioned   2   0.0\n",
            "The   2   0.0\n",
            "as   2   0.0\n",
            "giving   1   0.6931471805599453\n",
            "death   1   0.6931471805599453\n",
            "ibj   1   0.6931471805599453\n",
            "1648   1   0.6931471805599453\n",
            "Mahal   2   0.0\n",
            "while   1   0.6931471805599453\n",
            "documenting   1   0.6931471805599453\n",
            "later   2   0.0\n",
            "1632.Mausoleum   1   0.6931471805599453\n",
            "Surrounding   2   0.0\n",
            "five   2   0.0\n",
            "memory   2   0.0\n",
            "to   1   0.6931471805599453\n",
            "by   2   0.0\n",
            "of   2   0.0\n",
            "Mumtaz   2   0.0\n",
            "illustrates   1   0.6931471805599453\n"
          ]
        }
      ]
    }
  ]
}